{
 "cells": [
  {
   "cell_type": "code",
   "execution_count": 67,
   "id": "b8c71a61",
   "metadata": {},
   "outputs": [],
   "source": [
    "#%matplotlib widget\n",
    "import warnings; warnings.simplefilter('ignore')\n",
    "import numpy as np\n",
    "import pandas\n",
    "from sklearn.preprocessing import LabelEncoder"
   ]
  },
  {
   "cell_type": "code",
   "execution_count": 73,
   "id": "51d31799",
   "metadata": {},
   "outputs": [],
   "source": [
    "# lire le fichier csv\n",
    "data = pandas.read_csv(\"Data/champignons.csv\", sep=' ')\n",
    "\n",
    "# transformer les cat´egories de chaque caract´eristique comme des valeurs numériques\n",
    "encodeur = LabelEncoder()\n",
    "for col in data.columns:\n",
    "    data[col] = encodeur.fit_transform(data[col])\n",
    "\n",
    "# La dernière ligne des données est le champignon de test, on ne le prend pas.\n",
    "X = data[[\"Odeur\", \"Lieu\", \"Chapeau\", \"Spores\", \"Tige\"]][:-1]\n",
    "Y = data[\"Toxicité\"][:-1]\n",
    "\n",
    "testX = data[data.columns[0:5]][-1:]"
   ]
  },
  {
   "cell_type": "markdown",
   "id": "7be7142f",
   "metadata": {},
   "source": [
    "# 1.1 Bayes Natif\n",
    "\n",
    "Explication :$y(x) = \\underset{k}{\\mathrm{argmax}}$ $\\underset{j}{\\Pi}$ $P(X=x_j, Y=y_k) * P(Y_k)$\n",
    "\n",
    "---\n",
    "\n",
    "$k=1$ : Comestible ($P(Y_k)=\\frac12$)\n",
    "\n",
    "$y(x) = \\frac12 (\\frac13 \\frac23 \\frac13 \\frac13 \\frac33) = \\frac1{81}$\n",
    "\n",
    "---\n",
    "$k=2$ : Toxique ($P(Y_k)=\\frac12$)\n",
    "\n",
    "$y(x) = \\frac12 (\\frac23 \\frac13 \\frac13 \\frac23 \\frac33) \\frac2{81}$\n",
    "\n",
    "Conclusion : $y(x) = 2$"
   ]
  },
  {
   "cell_type": "code",
   "execution_count": 77,
   "id": "f2b6e889",
   "metadata": {},
   "outputs": [
    {
     "name": "stdout",
     "output_type": "stream",
     "text": [
      "Classes =  ['comestible' 'toxique']\n",
      "Proba comestible=33.33%\n"
     ]
    }
   ],
   "source": [
    "from sklearn.naive_bayes import CategoricalNB\n",
    "# 1.1 Bayes Natif\n",
    "# Explication : argmax produit P(X=x, Y=y_k)\n",
    "\n",
    "c = CategoricalNB(alpha=0)\n",
    "\n",
    "print(\"Classes = \", encodeur.classes_)\n",
    "\n",
    "c.fit(X=X, y=Y)\n",
    "\n",
    "prob = c.predict_proba(X=testX)\n",
    "\n",
    "print(f\"Proba comestible={prob[0][0]:.2%}\")"
   ]
  },
  {
   "cell_type": "markdown",
   "id": "0cb0f66e",
   "metadata": {},
   "source": [
    "# 1.2 K plus proches voisins\n",
    "\n",
    "On a pas vu la théorie?"
   ]
  },
  {
   "cell_type": "code",
   "execution_count": 81,
   "id": "317c4f65",
   "metadata": {},
   "outputs": [
    {
     "name": "stdout",
     "output_type": "stream",
     "text": [
      "Proba comestible=66.67%\n"
     ]
    }
   ],
   "source": [
    "from sklearn.neighbors import KNeighborsClassifier\n",
    "\n",
    "c = KNeighborsClassifier(n_neighbors=3)\n",
    "\n",
    "c.fit(X=X, y=Y)\n",
    "\n",
    "prob = c.predict_proba(X=testX)\n",
    "\n",
    "print(f\"Proba comestible={prob[0][0]:.2%}\")"
   ]
  }
 ],
 "metadata": {
  "kernelspec": {
   "display_name": "DataMining",
   "language": "python",
   "name": "python3"
  },
  "language_info": {
   "codemirror_mode": {
    "name": "ipython",
    "version": 3
   },
   "file_extension": ".py",
   "mimetype": "text/x-python",
   "name": "python",
   "nbconvert_exporter": "python",
   "pygments_lexer": "ipython3",
   "version": "3.11.13"
  }
 },
 "nbformat": 4,
 "nbformat_minor": 5
}
