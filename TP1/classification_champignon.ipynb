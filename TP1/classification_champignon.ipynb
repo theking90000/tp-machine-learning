{
 "cells": [
  {
   "cell_type": "code",
   "execution_count": 4,
   "id": "b8c71a61",
   "metadata": {},
   "outputs": [],
   "source": [
    "#%matplotlib widget\n",
    "import numpy as np\n",
    "import pandas\n",
    "from sklearn.preprocessing import LabelEncoder"
   ]
  },
  {
   "cell_type": "code",
   "execution_count": null,
   "id": "51d31799",
   "metadata": {},
   "outputs": [],
   "source": [
    "# lire le fichier csv\n",
    "data = pandas.read_csv(\"Data/champignons.csv\", sep=' ')\n",
    "\n",
    "# transformer les cat´egories de chaque caract´eristique comme des valeurs numériques\n",
    "encodeur = LabelEncoder()\n",
    "for col in data.columns:\n",
    "    data[col] = encodeur.fit_transform(data[col])\n",
    "\n",
    "# La dernière ligne des données est le champignon de test, on ne le prend pas.\n",
    "X = data[[\"Odeur\", \"Lieu\", \"Chapeau\", \"Spores\", \"Tige\"]][:-1]\n",
    "Y = data[\"Toxicité\"][:-1]"
   ]
  },
  {
   "cell_type": "markdown",
   "id": "7be7142f",
   "metadata": {},
   "source": [
    "# 1.1 Bayes Natif\n",
    "\n",
    "Explication :$y(x) = \\underset{k}{\\mathrm{argmax}}$ $\\underset{j}{\\Pi}$ $P(X=x_j, Y=y_k) * P(Y_k)$\n",
    "\n",
    "---\n",
    "\n",
    "$k=1$ : Comestible ($P(Y_k)=\\frac12$)\n",
    "\n",
    "$y(x) = \\frac12 (\\frac13 \\frac23 \\frac12 \\frac13 \\frac33) = \\frac1{54}$\n",
    "\n",
    "---\n",
    "$k=2$ : Toxique ($P(Y_k)=\\frac12$)\n",
    "\n",
    "$y(x) = \\frac2{54}$\n",
    "\n",
    "Conclusion : $y(x) = 2$"
   ]
  },
  {
   "cell_type": "code",
   "execution_count": 58,
   "id": "f2b6e889",
   "metadata": {},
   "outputs": [
    {
     "name": "stdout",
     "output_type": "stream",
     "text": [
      "Classes =  ['comestible' 'toxique']\n",
      "[[0.33333333 0.66666667]]\n"
     ]
    },
    {
     "name": "stderr",
     "output_type": "stream",
     "text": [
      "/opt/homebrew/Caskroom/miniconda/base/envs/DataMining/lib/python3.11/site-packages/sklearn/naive_bayes.py:1529: RuntimeWarning: divide by zero encountered in log\n",
      "  np.log(smoothed_cat_count) - np.log(smoothed_class_count.reshape(-1, 1))\n"
     ]
    }
   ],
   "source": [
    "from sklearn.naive_bayes import CategoricalNB\n",
    "# 1.1 Bayes Natif\n",
    "# Explication : argmax produit P(X=x, Y=y_k)\n",
    "\n",
    "c = CategoricalNB(alpha=0)\n",
    "\n",
    "print(\"Classes = \", encodeur.classes_)\n",
    "\n",
    "c.fit(X=X, y=Y)\n",
    "\n",
    "print(c.predict_proba(X=data[data.columns[0:5]][-1:]))"
   ]
  },
  {
   "cell_type": "markdown",
   "id": "0cb0f66e",
   "metadata": {},
   "source": [
    "# 1.2 K plus proches voisins"
   ]
  },
  {
   "cell_type": "code",
   "execution_count": null,
   "id": "317c4f65",
   "metadata": {},
   "outputs": [],
   "source": []
  }
 ],
 "metadata": {
  "kernelspec": {
   "display_name": "DataMining",
   "language": "python",
   "name": "python3"
  },
  "language_info": {
   "codemirror_mode": {
    "name": "ipython",
    "version": 3
   },
   "file_extension": ".py",
   "mimetype": "text/x-python",
   "name": "python",
   "nbconvert_exporter": "python",
   "pygments_lexer": "ipython3",
   "version": "3.11.13"
  }
 },
 "nbformat": 4,
 "nbformat_minor": 5
}
